{
 "cells": [
  {
   "cell_type": "markdown",
   "metadata": {},
   "source": [
    "# I. Select games and generate random sample"
   ]
  },
  {
   "cell_type": "code",
   "execution_count": 1,
   "metadata": {},
   "outputs": [],
   "source": [
    "from Prob_game.sample_generation import *"
   ]
  },
  {
   "cell_type": "code",
   "execution_count": 2,
   "metadata": {},
   "outputs": [],
   "source": [
    "n_sample_ = 500"
   ]
  },
  {
   "cell_type": "code",
   "execution_count": 3,
   "metadata": {},
   "outputs": [],
   "source": [
    "# Skew Norm\n",
    "skewnorm = Sample_generation(count = 99, probs = \"skewnorm\", a = 10, change_bomb = \"T\", n_play = 50 )\n",
    "sknewnorm_df = skewnorm.gen_sample(flag = 1, n_sample = n_sample_)\n",
    "\n",
    "# Random Skew\n",
    "random_skew = Sample_generation(count= 99, probs = \"random_skew\", peak = 80, smooth = \"True\", change_bomb = \"T\", n_play = 50 )\n",
    "random_skew_df = random_skew.gen_sample(flag = 2, n_sample = n_sample_)\n",
    "\n",
    "# Increasing\n",
    "increasing = Sample_generation(count= 99, probs = \"increasing\", change_bomb = \"T\", n_play = 50 )\n",
    "increasing_df = increasing.gen_sample(flag = 3, n_sample = n_sample_)"
   ]
  },
  {
   "cell_type": "code",
   "execution_count": 4,
   "metadata": {},
   "outputs": [],
   "source": [
    "final_df = pd.DataFrame()\n",
    "\n",
    "final_df = final_df.append(sknewnorm_df, ignore_index = True)\n",
    "final_df = final_df.append(random_skew_df, ignore_index = True)\n",
    "final_df = final_df.append(increasing_df, ignore_index = True)"
   ]
  },
  {
   "cell_type": "markdown",
   "metadata": {},
   "source": [
    "# II. Train Classification NN"
   ]
  },
  {
   "cell_type": "code",
   "execution_count": 5,
   "metadata": {},
   "outputs": [
    {
     "name": "stderr",
     "output_type": "stream",
     "text": [
      "Using TensorFlow backend.\n"
     ]
    },
    {
     "data": {
      "text/plain": [
       "<matplotlib.figure.Figure at 0x1c338fbdb70>"
      ]
     },
     "metadata": {},
     "output_type": "display_data"
    }
   ],
   "source": [
    "from Prob_game.classification import *"
   ]
  },
  {
   "cell_type": "code",
   "execution_count": 6,
   "metadata": {},
   "outputs": [],
   "source": [
    "class_nn = Classification_type(final_df)"
   ]
  },
  {
   "cell_type": "code",
   "execution_count": 7,
   "metadata": {},
   "outputs": [
    {
     "name": "stderr",
     "output_type": "stream",
     "text": [
      "C:\\Users\\zq113rm\\AppData\\Local\\Continuum\\anaconda3\\lib\\site-packages\\sklearn\\utils\\validation.py:475: DataConversionWarning: Data with input dtype object was converted to float64 by StandardScaler.\n",
      "  warnings.warn(msg, DataConversionWarning)\n"
     ]
    },
    {
     "name": "stdout",
     "output_type": "stream",
     "text": [
      "Model is trained\n"
     ]
    }
   ],
   "source": [
    "class_nn.classification_nn()"
   ]
  },
  {
   "cell_type": "code",
   "execution_count": 8,
   "metadata": {},
   "outputs": [],
   "source": [
    "import numpy as np"
   ]
  },
  {
   "cell_type": "markdown",
   "metadata": {},
   "source": [
    "# III. Evolutionary optimization"
   ]
  },
  {
   "cell_type": "code",
   "execution_count": 9,
   "metadata": {},
   "outputs": [],
   "source": [
    "from Prob_game.nn_evolution import *"
   ]
  },
  {
   "cell_type": "code",
   "execution_count": 11,
   "metadata": {},
   "outputs": [
    {
     "name": "stderr",
     "output_type": "stream",
     "text": [
      "100%|██████████| 40/40 [02:54<00:00,  4.14s/it]\n"
     ]
    }
   ],
   "source": [
    "skewnorm_evolution = Nn_evolution(count = 99, probs = \"skewnorm\", change_bomb = \"T\", n_play = 50, n_pop = 30,  n_gen = 40 , elitism = 0.6 , loser_percent = 0)\n",
    "skewnorm_evolution.evolve(a = 10)\n",
    "skewnorm_evolution_best = skewnorm_evolution.select_best_nn()"
   ]
  },
  {
   "cell_type": "code",
   "execution_count": 12,
   "metadata": {},
   "outputs": [
    {
     "name": "stderr",
     "output_type": "stream",
     "text": [
      "100%|██████████| 40/40 [00:27<00:00,  1.13it/s]\n"
     ]
    }
   ],
   "source": [
    "random_skew_evolution = Nn_evolution(count = 99, probs = \"random_skew\", change_bomb = \"T\", n_play = 50, n_pop = 30,  n_gen = 40 , elitism = 0.6 , loser_percent = 0)\n",
    "random_skew_evolution.evolve(peak = 80, smooth = \"True\")\n",
    "random_skew_evolution_best = random_skew_evolution.select_best_nn()"
   ]
  },
  {
   "cell_type": "code",
   "execution_count": 13,
   "metadata": {},
   "outputs": [
    {
     "name": "stderr",
     "output_type": "stream",
     "text": [
      "100%|██████████| 40/40 [00:29<00:00,  1.28it/s]\n"
     ]
    }
   ],
   "source": [
    "increasing_evolution = Nn_evolution(count = 99, probs = \"increasing\", change_bomb = \"T\", n_play = 50, n_pop = 30,  n_gen = 40 , elitism = 0.6 , loser_percent = 0)\n",
    "increasing_evolution.evolve()\n",
    "increasing_evolution_best = increasing_evolution.select_best_nn()"
   ]
  },
  {
   "cell_type": "markdown",
   "metadata": {},
   "source": [
    "# IV. Testing"
   ]
  },
  {
   "cell_type": "code",
   "execution_count": 14,
   "metadata": {},
   "outputs": [],
   "source": [
    "import random"
   ]
  },
  {
   "cell_type": "code",
   "execution_count": 15,
   "metadata": {},
   "outputs": [],
   "source": [
    "from Prob_game.risky_bomb import *"
   ]
  },
  {
   "cell_type": "code",
   "execution_count": 18,
   "metadata": {},
   "outputs": [],
   "source": [
    "count = 99\n",
    "r_model = random.randint(1,3)\n",
    "\n",
    "if r_model == 1: \n",
    "    base = Risky_bomb(count = count, probs = \"skewnorm\", a = 10)\n",
    "elif r_model == 2:\n",
    "    base = Risky_bomb(count = count, probs = \"random_skew\", peak = 80, smooth = \"True\")\n",
    "else:  \n",
    "    base = Risky_bomb(count = count, probs = \"increasing\")"
   ]
  },
  {
   "cell_type": "code",
   "execution_count": 19,
   "metadata": {},
   "outputs": [
    {
     "data": {
      "text/plain": [
       "1"
      ]
     },
     "execution_count": 19,
     "metadata": {},
     "output_type": "execute_result"
    }
   ],
   "source": [
    "r_model"
   ]
  },
  {
   "cell_type": "code",
   "execution_count": null,
   "metadata": {},
   "outputs": [],
   "source": [
    "\n",
    "# Play random rounds in order to produce more accurate classification\n",
    "guess_in = []\n",
    "p = []\n",
    "\n",
    "\n",
    "\n",
    "learn_ = 5\n",
    "for j in range(0,learn_):\n",
    "    guess_in.append(np.random.randint(1, count))\n",
    "    p.append(base.payment(guess = guess_in[j], change_bomb = self.change_bomb))"
   ]
  },
  {
   "cell_type": "code",
   "execution_count": null,
   "metadata": {},
   "outputs": [],
   "source": [
    "guess_in = [np.random.randint(1, self.count)]\n",
    "p = [self.base.payment(guess = guess_in[0] , change_bomb = self.change_bomb)]\n",
    "opt_ = 25\n",
    "learn_ = int(self.n_play / 3)\n",
    "for j in range(1,learn_):\n",
    "    guess_in.append(np.random.randint(1, self.count))\n",
    "    p.append(self.base.payment(guess = guess_in[j], change_bomb = self.change_bomb))\n",
    "\n",
    "for i in range(learn_, self.n_play - learn_):\n",
    "    p_h = np.array(p)\n",
    "    g_h = np.array(guess_in)\n",
    "    try: \n",
    "        opt_ = int(np.mean(list(p_h[np.where(p_h > 0)])))\n",
    "    except ValueError:\n",
    "        opt_ = opt_\n",
    "    guess_in.append(opt_)\n",
    "    p.append(self.base.payment(guess = guess_in[i], change_bomb = self.change_bomb))\n",
    "out_ = pd.DataFrame({\"payment\":p, \"guesses\":guess_in})\n",
    "return(out_)"
   ]
  },
  {
   "cell_type": "code",
   "execution_count": null,
   "metadata": {},
   "outputs": [],
   "source": [
    "        df_out = pd.DataFrame(columns = [\"Sample_ID\",\n",
    "                                         \"seq\", \n",
    "                                         \"flag\",\n",
    "                                         \"payment\",\n",
    "                                         \"guesses\",\n",
    "                                         \"bomb\",\n",
    "                                         \"mean_guess\",\n",
    "                                         \"std_guess\",\n",
    "                                         \"mean_p\",\n",
    "                                         \"std_p\",\n",
    "                                         \"last_3_p_mean\"])\n",
    "        for j in range(0, n_sample - 1):\n",
    "            \n",
    "             # Initiate values\n",
    "            seq_ = []\n",
    "            flag_ = []\n",
    "            guess_in = []\n",
    "            p = []\n",
    "            bomb = []\n",
    "            mean_guess = []\n",
    "            std_guess = []\n",
    "            mean_p = []\n",
    "            std_p = []\n",
    "            last_3_p_mean= []\n",
    "\n",
    "            for i in range(0, self.n_play):  \n",
    "                seq_.append(i)\n",
    "                flag_.append(flag)\n",
    "                guess_in.append(np.random.randint(0,self.count))\n",
    "                p.append(self.base.payment(guess = guess_in[i], change_bomb = self.change_bomb))\n",
    "                bomb.append(self.base.bomb)\n",
    "                mean_guess.append(np.mean(guess_in))\n",
    "                std_guess.append(np.std(guess_in))\n",
    "                mean_p.append(np.mean(p))\n",
    "                std_p.append(np.std(p))\n",
    "                if len(p) < 3:\n",
    "                    c = 0\n",
    "                else: \n",
    "                    c = len(p) - 3\n",
    "                last_3_p_mean.append(np.mean(p[c:]))\n",
    "                \n",
    "            out_ = pd.DataFrame({\"Sample_ID\": j,\n",
    "                                 \"seq\": seq_,\n",
    "                                 \"flag\": flag_,\n",
    "                                 \"payment\": p,\n",
    "                                 \"guesses\": guess_in, \n",
    "                                 \"bomb\":bomb,\n",
    "                                 \"mean_guess\": mean_guess, \n",
    "                                 \"std_guess\": std_guess,\n",
    "                                 \"mean_p\": mean_p, \n",
    "                                 \"std_p\": std_p,\n",
    "                                 \"last_3_p_mean\": last_3_p_mean})\n",
    "            \n",
    "            df_out = df_out.append(out_ , ignore_index = True)\n",
    "        \n",
    "        self.gen_sample_df = df_out\n",
    "        return(df_out)\n"
   ]
  },
  {
   "cell_type": "code",
   "execution_count": null,
   "metadata": {},
   "outputs": [],
   "source": []
  },
  {
   "cell_type": "code",
   "execution_count": 16,
   "metadata": {},
   "outputs": [],
   "source": [
    "# Select model randomly\n",
    "r_model = random.randint(1,3)\n",
    "\n",
    "if r_model == 1: \n",
    "    opt_weight = skewnorm_evolution_best\n",
    "elif r_model == 2:\n",
    "    opt_weight = random_skew_evolution_best \n",
    "else:  \n",
    "    opt_weight = increasing_evolution_best "
   ]
  },
  {
   "cell_type": "code",
   "execution_count": null,
   "metadata": {},
   "outputs": [],
   "source": []
  },
  {
   "cell_type": "code",
   "execution_count": null,
   "metadata": {},
   "outputs": [],
   "source": []
  },
  {
   "cell_type": "code",
   "execution_count": null,
   "metadata": {},
   "outputs": [],
   "source": []
  }
 ],
 "metadata": {
  "kernelspec": {
   "display_name": "Python 3",
   "language": "python",
   "name": "python3"
  }
 },
 "nbformat": 4,
 "nbformat_minor": 2
}

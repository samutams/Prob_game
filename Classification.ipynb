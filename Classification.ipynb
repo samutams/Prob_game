{
 "cells": [
  {
   "cell_type": "code",
   "execution_count": 22,
   "metadata": {},
   "outputs": [],
   "source": [
    "from sklearn.preprocessing import StandardScaler"
   ]
  },
  {
   "cell_type": "code",
   "execution_count": 58,
   "metadata": {},
   "outputs": [],
   "source": [
    "import keras\n",
    "from keras.models import Sequential\n",
    "from keras.layers import Dense\n",
    "from keras.utils import np_utils\n",
    "from sklearn.preprocessing import LabelEncoder"
   ]
  },
  {
   "cell_type": "code",
   "execution_count": 102,
   "metadata": {},
   "outputs": [],
   "source": [
    "from sklearn.metrics import confusion_matrix"
   ]
  },
  {
   "cell_type": "code",
   "execution_count": 146,
   "metadata": {},
   "outputs": [],
   "source": [
    "import numpy as np\n",
    "import pandas as pd\n",
    "\n",
    "# Importing the dataset\n",
    "dataset = pd.read_csv('training_sample.csv')"
   ]
  },
  {
   "cell_type": "code",
   "execution_count": 194,
   "metadata": {},
   "outputs": [
    {
     "data": {
      "text/plain": [
       "<matplotlib.figure.Figure at 0x2dec0de5a58>"
      ]
     },
     "execution_count": 194,
     "metadata": {},
     "output_type": "execute_result"
    },
    {
     "data": {
      "text/plain": [
       "<matplotlib.figure.Figure at 0x2dec0de5a58>"
      ]
     },
     "metadata": {},
     "output_type": "display_data"
    }
   ],
   "source": [
    "from matplotlib.pyplot import figure\n",
    "figure(num=None, figsize=(8, 6), dpi=80, facecolor='w', edgecolor='k')"
   ]
  },
  {
   "cell_type": "code",
   "execution_count": 295,
   "metadata": {},
   "outputs": [],
   "source": [
    "class Classification_type(object):\n",
    "    \n",
    "    def __init__(self,dataset):\n",
    "        self.dataset = dataset\n",
    "        self.y = dataset['flag'].values\n",
    "        self.X = dataset[['seq', 'payment', 'guesses', 'mean_guess', 'std_guess', 'mean_p', 'std_p', 'last_3_p_mean']]\n",
    "        self.n_out_neurons = self.dataset['flag'].nunique()\n",
    "        \n",
    "        # Y edited\n",
    "        self.dummy_y = None\n",
    "        \n",
    "        # X edited\n",
    "        self.X_scaled = None\n",
    "    \n",
    "        # Classification NN\n",
    "        self.classifier = Sequential()\n",
    "        self.classifier.add(Dense(units = 8, kernel_initializer = 'uniform', activation = 'relu', input_dim = 8))\n",
    "        #self.classifier.add(Dense(units = 6, kernel_initializer = 'uniform', activation = 'relu'))\n",
    "        self.classifier.add(Dense(units = self.n_out_neurons,  activation = 'softmax'))\n",
    "        self.classifier.compile(optimizer = 'adam', loss = 'binary_crossentropy', metrics = ['accuracy'])\n",
    "        \n",
    "        # Prediction\n",
    "        self.y_pred = None\n",
    "        \n",
    "        # Score by Seq\n",
    "        self.score_seq_dt = None\n",
    "    \n",
    "    def encode_y(self, y):\n",
    "        encoder = LabelEncoder()\n",
    "        encoder.fit(y)\n",
    "        encoded_y = encoder.transform(y)\n",
    "        return(np_utils.to_categorical(encoded_y))\n",
    "        \n",
    "    def scaling_x(self, x):\n",
    "        sc = StandardScaler()\n",
    "        return(sc.fit_transform(x))\n",
    "        \n",
    "    def classification_nn(self):\n",
    "        \n",
    "        # Scale and Encode if needed\n",
    "        if self.dummy_y == None: \n",
    "            self.dummy_y = self.encode_y(self.y)\n",
    "        if self.X_scaled == None:\n",
    "            self.X_scaled = self.scaling_x(self.X.values)\n",
    "        \n",
    "        # Classification\n",
    "        self.classifier.fit(self.X_scaled, self.dummy_y, batch_size = 100, epochs = 100, verbose=0)\n",
    "        \n",
    "        # Add predicted Value to dataset\n",
    "        y = self.classifier.predict(self.X_scaled)\n",
    "        self.dataset['y_pred'] = self.prob_to_pred(y)\n",
    "        self.dataset.loc[(self.dataset['y_pred'] == self.dataset['flag']) , 'Score'] = 1 \n",
    "        self.dataset.loc[(self.dataset['y_pred'] != self.dataset['flag']), 'Score'] = 0 \n",
    "        \n",
    "        print(\"Model is trained\")\n",
    "    \n",
    "    def prob_to_pred(self, y_output):\n",
    "        # Converts prediction matrix to actual prediction\n",
    "        out_ = []\n",
    "        for i in range(0, y_output.shape[0]):\n",
    "            out_.append((y_output[i].argmax(axis = 0) + 1))\n",
    "        return(out_)\n",
    "    \n",
    "    def confusion_matrix(self, y_pred_, y_actual, normalize = True):\n",
    "        c = confusion_matrix(y_actual, y_pred_)\n",
    "        \n",
    "        if normalize == True:\n",
    "            c = c / c.astype(np.float).sum(axis=1)\n",
    "        return(c)\n",
    "    \n",
    "    def overall_score(self, score_type = 'Training',y_act = None, y_pred = None):\n",
    "        if score_type == 'Training':\n",
    "            return(self.dataset[\"Score\"].sum()/self.dataset[\"Score\"].count())\n",
    "        else:\n",
    "            y_eval = (y_act == y_pred)\n",
    "            return(y_eval[y_eval == True].shape[0]/y_eval.shape[0])\n",
    "    \n",
    "    def score_by_seq(self):\n",
    "        self.score_seq_dt = self.dataset.groupby(\"seq\")[\"Score\"].sum()/self.dataset.groupby(\"seq\")[\"Score\"].count()\n",
    "        return(self.score_seq_dt)\n",
    "    \n",
    "    def plot_score_by_seq(self): \n",
    "        if  all(self.score_seq_dt == None):\n",
    "            self.score_seq_dt = self.dataset.groupby(\"seq\")[\"Score\"].sum()/self.dataset.groupby(\"seq\")[\"Score\"].count()\n",
    "        \n",
    "        plt.plot(range(0,len(self.score_seq_dt)), self.score_seq_dt , color = '#001871')\n",
    "        plt.xlabel('N_play', fontsize=15)\n",
    "        plt.ylabel('% Correctly classified', fontsize=15)\n",
    "        plt.title('% of correctly classified cases depending on n_play', fontsize=20)\n",
    "        plt.rcParams[\"figure.figsize\"] = [10,7]\n",
    "        plt.show() \n",
    "    \n",
    "    def predict_value(self, X_input):\n",
    "        return(classifier.predict(self.scaling_x(X_input)))\n",
    "        "
   ]
  },
  {
   "cell_type": "code",
   "execution_count": 296,
   "metadata": {},
   "outputs": [],
   "source": [
    "a = Classification_type(dataset)"
   ]
  },
  {
   "cell_type": "code",
   "execution_count": 297,
   "metadata": {
    "scrolled": true
   },
   "outputs": [
    {
     "name": "stdout",
     "output_type": "stream",
     "text": [
      "Model is trained\n"
     ]
    }
   ],
   "source": [
    "a.classification_nn()"
   ]
  },
  {
   "cell_type": "code",
   "execution_count": 256,
   "metadata": {
    "scrolled": true
   },
   "outputs": [
    {
     "data": {
      "text/plain": [
       "seq\n",
       "0     0.466333\n",
       "1     0.544797\n",
       "2     0.597106\n",
       "3     0.626600\n",
       "4     0.651085\n",
       "5     0.678909\n",
       "6     0.701169\n",
       "7     0.723984\n",
       "8     0.723984\n",
       "9     0.731219\n",
       "10    0.737340\n",
       "11    0.745687\n",
       "12    0.750139\n",
       "13    0.761269\n",
       "14    0.759043\n",
       "15    0.764051\n",
       "16    0.771842\n",
       "17    0.777963\n",
       "18    0.780746\n",
       "19    0.778520\n",
       "20    0.776850\n",
       "21    0.781302\n",
       "22    0.783528\n",
       "23    0.790762\n",
       "24    0.790762\n",
       "25    0.789649\n",
       "26    0.792988\n",
       "27    0.796884\n",
       "28    0.797440\n",
       "29    0.793545\n",
       "30    0.799110\n",
       "31    0.800223\n",
       "32    0.800223\n",
       "33    0.803561\n",
       "34    0.809683\n",
       "35    0.809683\n",
       "36    0.810239\n",
       "37    0.814135\n",
       "38    0.819143\n",
       "39    0.819699\n",
       "40    0.827490\n",
       "41    0.824708\n",
       "42    0.828603\n",
       "43    0.827490\n",
       "44    0.830273\n",
       "45    0.830273\n",
       "46    0.833055\n",
       "47    0.830273\n",
       "48    0.834168\n",
       "49    0.838620\n",
       "Name: Score, dtype: float64"
      ]
     },
     "execution_count": 256,
     "metadata": {},
     "output_type": "execute_result"
    }
   ],
   "source": [
    "a.score_by_seq()"
   ]
  },
  {
   "cell_type": "code",
   "execution_count": 257,
   "metadata": {
    "scrolled": true
   },
   "outputs": [
    {
     "data": {
      "image/png": "[encoded data removed]",
      "text/plain": [
       "<matplotlib.figure.Figure at 0x2decab22f60>"
      ]
     },
     "metadata": {},
     "output_type": "display_data"
    }
   ],
   "source": [
    "a.plot_score_by_seq()"
   ]
  },
  {
   "cell_type": "code",
   "execution_count": 251,
   "metadata": {},
   "outputs": [
    {
     "data": {
      "text/plain": [
       "False"
      ]
     },
     "execution_count": 251,
     "metadata": {},
     "output_type": "execute_result"
    }
   ],
   "source": [
    "all(a.score_seq_dt == None)"
   ]
  },
  {
   "cell_type": "code",
   "execution_count": null,
   "metadata": {},
   "outputs": [],
   "source": []
  },
  {
   "cell_type": "code",
   "execution_count": 218,
   "metadata": {},
   "outputs": [],
   "source": [
    "# Test on Testing sample"
   ]
  },
  {
   "cell_type": "code",
   "execution_count": 224,
   "metadata": {},
   "outputs": [],
   "source": [
    "dataset_test = pd.read_csv('test_sample.csv')"
   ]
  },
  {
   "cell_type": "code",
   "execution_count": 290,
   "metadata": {},
   "outputs": [],
   "source": [
    "y_test = dataset_test.iloc[:,2].values\n",
    "X_test = dataset_test[['seq', 'payment', 'guesses', 'mean_guess','std_guess', 'mean_p', 'std_p', 'last_3_p_mean']]"
   ]
  },
  {
   "cell_type": "code",
   "execution_count": 228,
   "metadata": {
    "collapsed": true
   },
   "outputs": [
    {
     "data": {
      "text/plain": [
       "array([[  0.        ,   0.        ,  67.        , ...,   0.        ,\n",
       "          0.        ,   0.        ],\n",
       "       [  1.        ,   0.        ,  75.        , ...,   0.        ,\n",
       "          0.        ,   0.        ],\n",
       "       [  2.        ,   0.        ,  55.        , ...,   0.        ,\n",
       "          0.        ,   0.        ],\n",
       "       ..., \n",
       "       [ 47.        ,  45.        ,  45.        , ...,  24.39583333,\n",
       "         22.61244088,  24.33333333],\n",
       "       [ 48.        ,  48.        ,  48.        , ...,  24.87755102,\n",
       "         22.62798759,  40.33333333],\n",
       "       [ 49.        ,   0.        ,  93.        , ...,  24.38      ,\n",
       "         22.66970666,  31.        ]])"
      ]
     },
     "execution_count": 228,
     "metadata": {},
     "output_type": "execute_result"
    }
   ],
   "source": [
    "X_test.values"
   ]
  },
  {
   "cell_type": "code",
   "execution_count": 302,
   "metadata": {},
   "outputs": [
    {
     "ename": "AttributeError",
     "evalue": "'numpy.ndarray' object has no attribute 'nunique'",
     "output_type": "error",
     "traceback": [
      "\u001b[1;31m---------------------------------------------------------------------------\u001b[0m",
      "\u001b[1;31mAttributeError\u001b[0m                            Traceback (most recent call last)",
      "\u001b[1;32m<ipython-input-302-ceee56ef13bc>\u001b[0m in \u001b[0;36m<module>\u001b[1;34m()\u001b[0m\n\u001b[1;32m----> 1\u001b[1;33m \u001b[0my_test\u001b[0m\u001b[1;33m.\u001b[0m\u001b[0mnunique\u001b[0m\u001b[1;33m(\u001b[0m\u001b[1;33m)\u001b[0m\u001b[1;33m\u001b[0m\u001b[0m\n\u001b[0m",
      "\u001b[1;31mAttributeError\u001b[0m: 'numpy.ndarray' object has no attribute 'nunique'"
     ]
    }
   ],
   "source": [
    "y_test.nunique()"
   ]
  },
  {
   "cell_type": "code",
   "execution_count": 288,
   "metadata": {},
   "outputs": [],
   "source": [
    "y_test_pred = a.predict_value(X_test.values)\n",
    "y_test_pred_2 = a.prob_to_pred(y_test_pred )"
   ]
  },
  {
   "cell_type": "code",
   "execution_count": null,
   "metadata": {},
   "outputs": [],
   "source": [
    "y_pred = classifier.predict(X2_test)"
   ]
  },
  {
   "cell_type": "code",
   "execution_count": 272,
   "metadata": {},
   "outputs": [
    {
     "data": {
      "text/plain": [
       "14850"
      ]
     },
     "execution_count": 272,
     "metadata": {},
     "output_type": "execute_result"
    }
   ],
   "source": [
    "(y_test_pred_2 == y_test).shape[0]"
   ]
  },
  {
   "cell_type": "code",
   "execution_count": 282,
   "metadata": {},
   "outputs": [
    {
     "data": {
      "text/plain": [
       "14850"
      ]
     },
     "execution_count": 282,
     "metadata": {},
     "output_type": "execute_result"
    }
   ],
   "source": [
    "((y_test_pred_2 == y_test) == True).shape[0]"
   ]
  },
  {
   "cell_type": "code",
   "execution_count": 278,
   "metadata": {},
   "outputs": [],
   "source": [
    "azta = (y_test_pred_2 == y_test)\n"
   ]
  },
  {
   "cell_type": "code",
   "execution_count": 281,
   "metadata": {},
   "outputs": [
    {
     "data": {
      "text/plain": [
       "11311"
      ]
     },
     "execution_count": 281,
     "metadata": {},
     "output_type": "execute_result"
    }
   ],
   "source": [
    "azta[azta == True].shape[0]"
   ]
  },
  {
   "cell_type": "code",
   "execution_count": 286,
   "metadata": {},
   "outputs": [
    {
     "data": {
      "text/plain": [
       "array([[ 0.97393939,  0.01030303,  0.01575758],\n",
       "       [ 0.02020202,  0.70888889,  0.27090909],\n",
       "       [ 0.02909091,  0.36868687,  0.60222222]])"
      ]
     },
     "execution_count": 286,
     "metadata": {},
     "output_type": "execute_result"
    }
   ],
   "source": [
    "a.confusion_matrix(y_test_pred_2,y_test, normalize=True)"
   ]
  },
  {
   "cell_type": "code",
   "execution_count": 298,
   "metadata": {},
   "outputs": [
    {
     "data": {
      "text/plain": [
       "0.7616835016835016"
      ]
     },
     "execution_count": 298,
     "metadata": {},
     "output_type": "execute_result"
    }
   ],
   "source": [
    "a.overall_score(score_type = 'Test', y_act = y_test, y_pred = y_test_pred_2)"
   ]
  },
  {
   "cell_type": "code",
   "execution_count": 299,
   "metadata": {},
   "outputs": [
    {
     "data": {
      "text/plain": [
       "0.76712298274902613"
      ]
     },
     "execution_count": 299,
     "metadata": {},
     "output_type": "execute_result"
    }
   ],
   "source": [
    "a.overall_score()"
   ]
  },
  {
   "cell_type": "code",
   "execution_count": 294,
   "metadata": {},
   "outputs": [
    {
     "data": {
      "text/plain": [
       "0.7616835016835016"
      ]
     },
     "execution_count": 294,
     "metadata": {},
     "output_type": "execute_result"
    }
   ],
   "source": [
    "y_eval = (y_test == y_test_pred_2)\n",
    "y_eval[y_eval == True].shape[0]/y_eval.shape[0]"
   ]
  },
  {
   "cell_type": "code",
   "execution_count": 293,
   "metadata": {},
   "outputs": [
    {
     "data": {
      "text/plain": [
       "array([ True,  True,  True, ..., False, False, False], dtype=bool)"
      ]
     },
     "execution_count": 293,
     "metadata": {},
     "output_type": "execute_result"
    }
   ],
   "source": [
    "(y_test == y_test_pred_2)"
   ]
  }
 ],
 "metadata": {
  "kernelspec": {
   "display_name": "Python 3",
   "language": "python",
   "name": "python3"
  },
  "language_info": {
   "codemirror_mode": {
    "name": "ipython",
    "version": 3
   },
   "file_extension": ".py",
   "mimetype": "text/x-python",
   "name": "python",
   "nbconvert_exporter": "python",
   "pygments_lexer": "ipython3",
   "version": "3.6.4"
  }
 },
 "nbformat": 4,
 "nbformat_minor": 2
}
